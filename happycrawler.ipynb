{
  "cells": [
    {
      "cell_type": "code",
      "execution_count": null,
      "metadata": {
        "id": "EtnaSlH-wplB"
      },
      "outputs": [],
      "source": [
        "# created on Dec 24, 2020\n",
        "# modified on April 12, 2022\n",
        "# @author:          Bo Zhao\n",
        "# @email:           zhaobo@uw.edu\n",
        "# @website:         https://hgis.uw.edu\n",
        "# @organization:    Department of Geography, University of Washington, Seattle\n",
        "# @description:     Search geo-tagged tweets within the U.S. This script is modified from https://github.com/shawn-terryah/Twitter_Geolocation"
      ]
    },
    {
      "cell_type": "code",
      "execution_count": null,
      "metadata": {
        "id": "f-bMdKMawxnQ",
        "outputId": "be5a9a00-3c95-4d67-d5b2-3096858c6fce",
        "colab": {
          "base_uri": "https://localhost:8080/"
        }
      },
      "outputs": [
        {
          "output_type": "stream",
          "name": "stdout",
          "text": [
            "Mounted at /gdrive\n"
          ]
        }
      ],
      "source": [
        "import tweepy, json, time\n",
        "import pandas as pd\n",
        "from google.colab import files\n",
        "# Create data on to Google Drive\n",
        "from google.colab import drive\n",
        "# Mount your Drive to the Colab VM.\n",
        "drive.mount('/gdrive')"
      ]
    },
    {
      "cell_type": "code",
      "execution_count": null,
      "metadata": {
        "id": "dEyPts-ZwplE"
      },
      "outputs": [],
      "source": [
        "class StreamListener(tweepy.StreamListener):\n",
        "    \"\"\"tweepy.StreamListener is a class provided by tweepy used to access\n",
        "    the Twitter Streaming API to collect tweets in real-time.\n",
        "    \"\"\"\n",
        "\n",
        "    def __init__(self, time_limit=60, file=\"\"):\n",
        "        \"\"\"class initialization\"\"\"\n",
        "        self.start_time = time.time()\n",
        "        self.limit = time_limit\n",
        "        self.result = []\n",
        "        self.f = file\n",
        "        super(StreamListener, self).__init__()\n",
        "\n",
        "    def on_data(self, data):\n",
        "        \"\"\"This is called when data are streamed in.\"\"\"\n",
        "        if (time.time() - self.start_time) < self.limit:\n",
        "            datajson = json.loads(data)\n",
        "            # print(datajson, \"\\n\")\n",
        "            if 'id' not in datajson.keys():\n",
        "                time.sleep(10)\n",
        "            else:\n",
        "                id = datajson['id']\n",
        "                username = datajson['user']['screen_name']\n",
        "                created_at = datajson['created_at']\n",
        "                text = datajson['text'].strip().replace(\"\\n\", \"\")\n",
        "\n",
        "                # process the geo-tags\n",
        "                if datajson['coordinates'] == None:\n",
        "                    try:\n",
        "                        bbox = datajson['place']['bounding_box']['coordinates'][0]\n",
        "                        lng = (bbox[0][0] + bbox[2][0]) / 2.0\n",
        "                        lat = (bbox[0][1] + bbox[1][1]) / 2.0\n",
        "                    except:\n",
        "                        lat = 0\n",
        "                        lng = 0\n",
        "                else:\n",
        "                    lng = datajson['coordinates']['coordinates'][0]\n",
        "                    lat = datajson['coordinates']['coordinates'][1]\n",
        "\n",
        "                if lat != 0:\n",
        "                    row = {\n",
        "                        'id': id,\n",
        "                        'username': username,\n",
        "                        'created_at': created_at,\n",
        "                        'lng': lng,\n",
        "                        'lat': lat,\n",
        "                        'text': text\n",
        "                    }\n",
        "                    print(row)\n",
        "                    self.result.append(row)\n",
        "                else:\n",
        "                    pass\n",
        "        else:\n",
        "            df = pd.DataFrame(self.result)\n",
        "            df.to_csv(self.f, index=False)\n",
        "            # download the csv to your local computer\n",
        "            files.download(self.f)\n",
        "            print(\"the csv has been downloaded to your local computer. The program has been completed successfully.\")\n",
        "            return False"
      ]
    },
    {
      "cell_type": "code",
      "execution_count": null,
      "metadata": {
        "id": "5Xzyo_OiwplG",
        "outputId": "9f681d5c-cc75-41ad-de52-d1e901b7f655",
        "colab": {
          "base_uri": "https://localhost:8080/",
          "height": 1000
        }
      },
      "outputs": [
        {
          "output_type": "stream",
          "name": "stdout",
          "text": [
            "{'id': 1517272803330109440, 'username': 'atsushi_beer', 'created_at': 'Thu Apr 21 22:43:20 +0000 2022', 'lng': 135.524116, 'lat': 34.6586785, 'text': '@pola_kitahanada Pちゃん💕おはようございます☀リプ嬉しいです😆ありがとうございます😍おはHappy💓コタツ君、確かに、気持ち良いですよね☺️うちでは、扇風機君とポジションチェンジしてますよ〜⭐️… https://t.co/Faoce1wZHe'}\n",
            "{'id': 1517272851048386562, 'username': 'hibacope', 'created_at': 'Thu Apr 21 22:43:31 +0000 2022', 'lng': 133.0473705, 'lat': 34.9200115, 'text': '@DdWGYn4Akqsqzpi おはようさんです♪happy birthday ㊗️🎊🎉おめでとう〜👍充実した一年を過ごしてくださいね〜😆😆'}\n",
            "{'id': 1517272862746238976, 'username': 'edwahorizon', 'created_at': 'Thu Apr 21 22:43:34 +0000 2022', 'lng': -119.85507849999999, 'lat': 34.421639, 'text': 'I wanna wear earrings but my parents will get so angry if they found out I pierced my ear'}\n",
            "{'id': 1517272874058407938, 'username': 'Inma5251', 'created_at': 'Thu Apr 21 22:43:37 +0000 2022', 'lng': -95.9046305, 'lat': 33.24548, 'text': '@CenturyLinkHelp I want a free month of internet service for all the horrible outages I had this past month and for… https://t.co/7euISRr2my'}\n",
            "{'id': 1517272923253452800, 'username': 'OteNadosh', 'created_at': 'Thu Apr 21 22:43:49 +0000 2022', 'lng': 17.268140000000002, 'lat': 26.332634499999998, 'text': '@nankamal1 happy Birthday🥳💞وألف مبروك 💞'}\n",
            "{'id': 1517272929804902404, 'username': 'joelynbeach', 'created_at': 'Thu Apr 21 22:43:50 +0000 2022', 'lng': -87.69111699999999, 'lat': 30.3847285, 'text': '👏👏👏👏👏👏 Happy for you, best wishes going forward!!👏👏👏👏👏👍😎'}\n",
            "{'id': 1517272954371031043, 'username': 'KappaGirl97', 'created_at': 'Thu Apr 21 22:43:56 +0000 2022', 'lng': -75.77004099999999, 'lat': 42.746617, 'text': '@angel_funsized I’m happy to provide proof!!! I just don’t know who requires it and who doesn’t.  I don’t want to c… https://t.co/bugPMj4kSP'}\n",
            "{'id': 1517272986541342721, 'username': 'maimai_simply', 'created_at': 'Thu Apr 21 22:44:04 +0000 2022', 'lng': -81.705467, 'lat': 41.495939500000006, 'text': 'Thank you my chocalate drop ❤️😝'}\n",
            "{'id': 1517273026135429120, 'username': 'Tonank2nd', 'created_at': 'Thu Apr 21 22:44:13 +0000 2022', 'lng': 107.55262300000001, 'lat': -6.8845795, 'text': \"@kessyNciw Happy B'Day tteh geulis yg entah ada dimana Wish you all the best Sehat selalu di negri orang semoga yg di semogakan tercapai\"}\n",
            "{'id': 1517273050802233344, 'username': 'imrealgowher', 'created_at': 'Thu Apr 21 22:44:19 +0000 2022', 'lng': 51.5391425, 'lat': 25.324668, 'text': '@AbdulShuja3 Wish you a very happy birthday 🎊 darling Standing behind your back… https://t.co/MoHsfK9GT2'}\n",
            "{'id': 1517273117382508544, 'username': 'CassandraBalbo2', 'created_at': 'Thu Apr 21 22:44:35 +0000 2022', 'lng': -120.4703395, 'lat': 34.654424500000005, 'text': 'Good morning my beautiful ALPHA LEADER KINGS AND QUEEN LEADER ALL CALIFORNIA CITIZENS HAPPY BLESSED THURSDAY HERE I… https://t.co/RLHPwTprUC'}\n",
            "{'id': 1517273162886651913, 'username': 'KarenMiShaSiman', 'created_at': 'Thu Apr 21 22:44:46 +0000 2022', 'lng': 45.113681, 'lat': 23.523077999999998, 'text': 'The happy man is he who knows his limitations  yet bows to no false gods..❄️🌙:HA45: https://t.co/wMeSleADyR'}\n",
            "{'id': 1517273192234168322, 'username': 'akmo1226', 'created_at': 'Thu Apr 21 22:44:53 +0000 2022', 'lng': -83.3997795, 'lat': 33.9563835, 'text': 'Having happy hour with Kevin Dillion in The Classic City 😎'}\n",
            "{'id': 1517273217039314944, 'username': 'ambisYOSA15', 'created_at': 'Thu Apr 21 22:44:59 +0000 2022', 'lng': 121.0836528, 'lat': 14.7035473, 'text': 'No more long messages and drama 😅Happy Happy Happiest Birthday 🎂🎉🎊mother @juliet_credo We missed you bigtime 🥰 We… https://t.co/2XMpPQ3SU5'}\n",
            "{'id': 1517273285607755777, 'username': 'HalseyasAflower', 'created_at': 'Thu Apr 21 22:45:15 +0000 2022', 'lng': 45.113681, 'lat': 23.523077999999998, 'text': 'The hours we pass with happy prospects in view are more pleasing than those crowned with fruition..🦅🦋:FW164: https://t.co/ID0bekclOy'}\n",
            "{'id': 1517273428734193665, 'username': 'mhhx20', 'created_at': 'Thu Apr 21 22:45:49 +0000 2022', 'lng': 55.5511725, 'lat': 24.9934625, 'text': '@amvvri Happy birthday brother 🎉'}\n",
            "{'id': 1517273434274865152, 'username': 'Smilan317', 'created_at': 'Thu Apr 21 22:45:50 +0000 2022', 'lng': -90.3817485, 'lat': 38.594022499999994, 'text': '@Chandra4GAPSC Happy to do so and hope my 55k dedicated Democratic followers do likewise.Good luck.'}\n",
            "{'id': 1517273446572564480, 'username': 'AHPhelps', 'created_at': 'Thu Apr 21 22:45:53 +0000 2022', 'lng': -84.448641, 'lat': 42.697986, 'text': 'I can’t even begin to express how HAPPY I am to be back at school for Science Night!  Our schools are the center of… https://t.co/qypcq8lkCd'}\n",
            "{'id': 1517273569344241665, 'username': 'Tazul1525047', 'created_at': 'Thu Apr 21 22:46:23 +0000 2022', 'lng': 90.328709, 'lat': 24.098380499999998, 'text': \"@Cycling_App It's a very wonderful project !!!! I feel avant-garde and sharpened sensibility!!!! I'm so happy if yo… https://t.co/6DrjUqSs3j\"}\n",
            "{'id': 1517273597643223040, 'username': 'TraceyArbon', 'created_at': 'Thu Apr 21 22:46:29 +0000 2022', 'lng': 150.931975, 'lat': -33.848244, 'text': '@acccgovau so not happy about the @bp_Australia &amp; @Shell_Australia in Hornsby ALWAYS being THE most expensive in AL… https://t.co/WRk4sX8T4x'}\n",
            "{'id': 1517273604354113537, 'username': 'atsushi_beer', 'created_at': 'Thu Apr 21 22:46:31 +0000 2022', 'lng': 135.513565, 'lat': 34.651448, 'text': 'おはようございます☀今朝のお参りの1コマ♬今日もHappyに〜✨ https://t.co/VF4TyGqttB'}\n",
            "{'id': 1517273624956358657, 'username': 'VHilitski', 'created_at': 'Thu Apr 21 22:46:36 +0000 2022', 'lng': -87.732013, 'lat': 41.8335845, 'text': \"⠀Another successful Easter MB hunt! 2/3 long runs brought me a box, the result I'm pretty happy with! With a 125%⚡… https://t.co/wrymeKXlaW\"}\n",
            "{'id': 1517273640378990592, 'username': 'Viamalalad', 'created_at': 'Thu Apr 21 22:46:40 +0000 2022', 'lng': 121.0627355, 'lat': 14.683012, 'text': 'Happy 1st barkday lily ko.💛wag lang mag kakasakit mahal kowuvyuuuu!😘 https://t.co/lqwOCEunU4'}\n",
            "{'id': 1517273757907357696, 'username': 'UVAFootball', 'created_at': 'Thu Apr 21 22:47:08 +0000 2022', 'lng': -78.487448, 'lat': 38.0400365, 'text': 'Happy Birthday @HenryDuke2021 🎉#GoHoos https://t.co/XupcK7Mdbq'}\n",
            "{'id': 1517273765247291392, 'username': 'chismphotowerx', 'created_at': 'Thu Apr 21 22:47:09 +0000 2022', 'lng': -122.349362, 'lat': 47.620666, 'text': 'Happy 60th Birthday, @space_needle! https://t.co/ARSOf6KHN5'}\n",
            "{'id': 1517273775833636864, 'username': 'gramsdidit', 'created_at': 'Thu Apr 21 22:47:12 +0000 2022', 'lng': -123.3583795, 'lat': 48.4267305, 'text': '@russimages 👋 yearn for the day my feed isn’t filled w engagement farming tactics or RTs that feel like when people… https://t.co/eTHbVg5MOE'}\n",
            "{'id': 1517273782435872769, 'username': 'MarieLee0422', 'created_at': 'Thu Apr 21 22:47:13 +0000 2022', 'lng': 123.846722, 'lat': 10.3748325, 'text': 'Happy birthday to me 🥳🎂'}\n",
            "{'id': 1517273799598624768, 'username': 'inftspaces', 'created_at': 'Thu Apr 21 22:47:18 +0000 2022', 'lng': -118.4119065, 'lat': 34.0207895, 'text': 'GIVEAWAY TIME💥⚡️Fam, we are giving away 5 FREE RSVP spots to our NFT Happy Hour in LA Tuesday 4/26! You’ll get:-… https://t.co/PJZZamCsTj'}\n",
            "{'id': 1517273801536458753, 'username': 'OjedaJaime2', 'created_at': 'Thu Apr 21 22:47:18 +0000 2022', 'lng': -77.6273615, 'lat': 38.7922175, 'text': '@u_ka0801 おはようございます！Oh Dolly 🌻Start this new day Happy and  Enthusiastic ✌🍓✌💞'}\n",
            "{'id': 1517273847514517506, 'username': 'paulinhoval14', 'created_at': 'Thu Apr 21 22:47:29 +0000 2022', 'lng': -0.1842935, 'lat': 5.6231985, 'text': 'Let’ throw it back’ ‘Coz it’s Thursday’’.🇰🇪🇰🇪..\\U0001f9be\\U0001f9be🐺🐺🏋🏿\\u200d♀️🏋🏿\\u200d♀️🥵🥶🔥💥🍫🍫🖤🖤\\U0001f90e\\U0001f90e. ⁃Me sippin’ some red wine🍷😎😉 and mindin’… https://t.co/4NHnxYHaCY'}\n",
            "{'id': 1517273866598449152, 'username': 'aynstaa', 'created_at': 'Thu Apr 21 22:47:34 +0000 2022', 'lng': 109.096209, 'lat': -7.633589499999999, 'text': '@convomf nyesek tapi ttp harus semangat happy kiyowo https://t.co/iGbdgvkQPJ'}\n",
            "{'id': 1517273961318711297, 'username': 'O5BWGtBho3PJmm6', 'created_at': 'Thu Apr 21 22:47:56 +0000 2022', 'lng': 137.0060895, 'lat': 35.2190605, 'text': 'みなみん💙💚💛💜❤💗💖@minami_hannariお誕生日🎂🎂✨おめでとう🎉㊗✨🎉🎂Happy Birthday 🎂🎉最幸😍😍💗で素敵な1年謳歌してね❤(￣∇￣ﾉﾉ\"ﾊﾟﾁﾊﾟﾁﾊﾟﾁ!!… https://t.co/A9uW29glRu'}\n",
            "{'id': 1517273995443597312, 'username': 'Tazul1525047', 'created_at': 'Thu Apr 21 22:48:04 +0000 2022', 'lng': 90.328709, 'lat': 24.098380499999998, 'text': \"@CryptoTownEU 1It's a very wonderful project !!!! I feel avant-garde and sharpened sensibility!!!! I'm so happy if… https://t.co/8Xhnndo89z\"}\n",
            "{'id': 1517273998265970688, 'username': 'davidlee', 'created_at': 'Thu Apr 21 22:48:05 +0000 2022', 'lng': -118.4119065, 'lat': 34.0207895, 'text': '.@rhomsany is an old friend and one of the best operators in softwareAs Lebron would say he took his talents to b… https://t.co/JJnyEQEYpp'}\n",
            "{'id': 1517274036778291202, 'username': 'msaimeesue', 'created_at': 'Thu Apr 21 22:48:14 +0000 2022', 'lng': -90.24782400000001, 'lat': 38.653771, 'text': 'FINALLY the first Bombus queens of the year in my yard! Two looked newly emerged and a third was foraging. Hard to… https://t.co/w4z7jYpzbf'}\n",
            "{'id': 1517274101420802048, 'username': 'ThebostonGary', 'created_at': 'Thu Apr 21 22:48:30 +0000 2022', 'lng': -71.09829149999999, 'lat': 42.473158, 'text': \"@pbraxmeier They want me happy 1st so there's a lot of indecision but they don't like seeing me unhappy.\"}\n",
            "{'id': 1517274108739862532, 'username': 'LOVEkiddy', 'created_at': 'Thu Apr 21 22:48:31 +0000 2022', 'lng': -81.267942, 'lat': 32.099475999999996, 'text': \"I'm so happy to be home!!! Lol\"}\n",
            "{'id': 1517274126804819968, 'username': 'Jacobnofilter', 'created_at': 'Thu Apr 21 22:48:36 +0000 2022', 'lng': -80.926628, 'lat': 33.6311395, 'text': 'This pic makes me happy'}\n",
            "{'id': 1517274129640017921, 'username': 'YlainneC', 'created_at': 'Thu Apr 21 22:48:36 +0000 2022', 'lng': 118.780801, 'lat': 9.9086605, 'text': 'Happy Birthday ate regz @reginevalcasid 🎂🎂🎂🎉🎉🎉💕💕💕'}\n",
            "{'id': 1517274142885691394, 'username': 'KillaNas3', 'created_at': 'Thu Apr 21 22:48:39 +0000 2022', 'lng': -75.3864605, 'lat': 39.1450235, 'text': '@haleythemartian I’m SO happy for y’all mbn… https://t.co/BEA6ty5PC2'}\n",
            "{'id': 1517274174124867584, 'username': 'Jehannettec', 'created_at': 'Thu Apr 21 22:48:47 +0000 2022', 'lng': -73.8311875, 'lat': 40.6708795, 'text': '@J3koBlogs Happy Birthday @J3koBlogs 🥳🎈🎉'}\n",
            "{'id': 1517274246166110208, 'username': 'RoySaif22', 'created_at': 'Thu Apr 21 22:49:04 +0000 2022', 'lng': 0.07886299999999999, 'lat': 51.584990000000005, 'text': 'Very happy to see you in Lahore Khan Saab. I am very happy to see All Lahore crowed in Lahore. MashAllah InshAllah… https://t.co/th38iWhaZc'}\n",
            "{'id': 1517274248670330880, 'username': 'AndySmithLife', 'created_at': 'Thu Apr 21 22:49:05 +0000 2022', 'lng': -83.1738665, 'lat': 32.6782075, 'text': '@brendangahan Happy to be a new LinkedIn follower today brother.'}\n",
            "{'id': 1517274344073961476, 'username': 'MellanGeorg', 'created_at': 'Thu Apr 21 22:49:27 +0000 2022', 'lng': 29.2730235, 'lat': 29.000369, 'text': '@FmjVg3Lcp5GeU3n Good looking my beautiful friend,happy Easter.'}\n",
            "{'id': 1517274368233066498, 'username': 'jsgascoigne', 'created_at': 'Thu Apr 21 22:49:33 +0000 2022', 'lng': -93.1056485, 'lat': 44.9415155, 'text': '@RachelBrougham Happy birthday, handsome!'}\n",
            "{'id': 1517274369189646336, 'username': 'mokutra', 'created_at': 'Thu Apr 21 22:49:33 +0000 2022', 'lng': 101.680805, 'lat': 2.904732, 'text': '@KechHidayah @rafiqhamustaffa Happy birthday Rafiqha, ibu LutHawa!🎉🎊'}\n",
            "{'id': 1517274419655233537, 'username': 'Howiee_Malik', 'created_at': 'Thu Apr 21 22:49:45 +0000 2022', 'lng': -91.40100849999999, 'lat': 30.937336000000002, 'text': 'I’m in the best mood right now, I’m actually happy today!!'}\n",
            "{'id': 1517274439947276288, 'username': 'AllegraHistory', 'created_at': 'Thu Apr 21 22:49:50 +0000 2022', 'lng': -72.9291585, 'lat': 41.298394, 'text': 'So great to speak alongside Professor Pedro Cardim this afternoon. Looking forward to spending time in Lisbon this… https://t.co/50NQFuEZXY'}\n",
            "{'id': 1517274533782298626, 'username': '242_peanut', 'created_at': 'Thu Apr 21 22:50:13 +0000 2022', 'lng': -76.593943, 'lat': 24.074967, 'text': 'Birthday And Baecation Adventure⛵️🏝🏝FunBeautiful Amazing HappyMe&amp;The Woman🌻🌻🌻 https://t.co/bFP8ABVo9v'}\n",
            "{'id': 1517274543504564224, 'username': 'daveed_1931', 'created_at': 'Thu Apr 21 22:50:15 +0000 2022', 'lng': -117.7823605, 'lat': 33.689732, 'text': '@ChrisG_1931 Happy anniversary bro! 🎉'}\n",
            "{'id': 1517274586596974593, 'username': 'thadisp', 'created_at': 'Thu Apr 21 22:50:25 +0000 2022', 'lng': -100.0768885, 'lat': 31.1688935, 'text': 'Go up there and Ball Out!!! We’ll compare war stories after Christmas'}\n",
            "{'id': 1517274650430091265, 'username': 'oktakemypic', 'created_at': 'Thu Apr 21 22:50:40 +0000 2022', 'lng': -77.017853, 'lat': 39.008349499999994, 'text': \"Every day I look at my life and ik so happy I didn't grow up fast and was in my nerdy box.\"}\n",
            "{'id': 1517274752452370442, 'username': 'Richardtoolbox', 'created_at': 'Thu Apr 21 22:51:05 +0000 2022', 'lng': -77.60468399999999, 'lat': 41.1179365, 'text': '@heartsabustin Happy Birthday Malcolm🤣'}\n",
            "{'id': 1517274765219840001, 'username': 'SunnymereWoo', 'created_at': 'Thu Apr 21 22:51:08 +0000 2022', 'lng': -100.0768885, 'lat': 31.1688935, 'text': '@jlossnake @JLo @Jlopxzz Happy birthday 🎈🎉🎉🎉'}\n",
            "{'id': 1517274815178100740, 'username': 'LauraRudy4', 'created_at': 'Thu Apr 21 22:51:20 +0000 2022', 'lng': -79.861034, 'lat': 35.1704985, 'text': '@iamrodneysmith So happy for you Aj! Wish you much love and a beautiful life. ❤️'}\n",
            "{'id': 1517274840847327234, 'username': 'AmyJone37732264', 'created_at': 'Thu Apr 21 22:51:26 +0000 2022', 'lng': -84.53981250000001, 'lat': 39.137038000000004, 'text': 'Happy heavenly 69th birthday to my dad! We love and miss you so much! https://t.co/V0h5wyJf2Z'}\n",
            "{'id': 1517274854155763712, 'username': 'RollsRizzy', 'created_at': 'Thu Apr 21 22:51:29 +0000 2022', 'lng': -77.35736499999999, 'lat': 37.6233055, 'text': 'Thanks bro!!'}\n",
            "{'id': 1517274882928689154, 'username': 'DebAnnPod', 'created_at': 'Thu Apr 21 22:51:36 +0000 2022', 'lng': -2.1530009999999997, 'lat': 53.60938, 'text': '#ToriesOut'}\n",
            "{'id': 1517274887068475395, 'username': 'audreevillar1', 'created_at': 'Thu Apr 21 22:51:37 +0000 2022', 'lng': 45.113681, 'lat': 23.523077999999998, 'text': 'Be happy Its one way of being wise.🦋:HA45: https://t.co/GgquXfkucj'}\n",
            "{'id': 1517274891996778496, 'username': 'piotr408', 'created_at': 'Thu Apr 21 22:51:38 +0000 2022', 'lng': 19.134777, 'lat': 51.9187255, 'text': '@NguyenM66920708 Happy Weekend💋😍💋💗😍💋 https://t.co/OsAJUefBj1'}\n",
            "{'id': 1517274930437836800, 'username': 'WasshoiTake', 'created_at': 'Thu Apr 21 22:51:47 +0000 2022', 'lng': 130.97350799999998, 'lat': 34.142483, 'text': '@HeidiKatrinaa Happy birthday beauty lady㊗️'}\n",
            "{'id': 1517274935001075712, 'username': 'trellio_17', 'created_at': 'Thu Apr 21 22:51:48 +0000 2022', 'lng': -90.253346, 'lat': 30.0093515, 'text': '@beaslley7 @KaayFenty Happy Birthday 🥳🎊🎉'}\n",
            "{'id': 1517274936473112576, 'username': 'thiefers', 'created_at': 'Thu Apr 21 22:51:49 +0000 2022', 'lng': -122.4269055, 'lat': 47.0895845, 'text': \"@BJStoner2 @DeadlineWH @VinGuptaMD @NicolleDWallace Exactly. But she's tRump-appointed and was probably happy to ru… https://t.co/Ht4r9MKq1W\"}\n",
            "{'id': 1517274958027706369, 'username': 'RollsRizzy', 'created_at': 'Thu Apr 21 22:51:54 +0000 2022', 'lng': -77.35736499999999, 'lat': 37.6233055, 'text': 'Thank you!'}\n",
            "{'id': 1517274974918254594, 'username': 'Tcorreia', 'created_at': 'Thu Apr 21 22:51:58 +0000 2022', 'lng': -74.847891, 'lat': 40.070617999999996, 'text': '@WXPNDanReed @wxpnfm #HighInTheSeventies. Happy Birthday @IggyPop You brought in full force https://t.co/Ai2q0kgawC'}\n",
            "{'id': 1517275027267280896, 'username': 'DemonessValery', 'created_at': 'Thu Apr 21 22:52:10 +0000 2022', 'lng': 17.455341, 'lat': 51.3774625, 'text': '@LioOneMorePixel OH MY GOD, SHE IS REAL *happy crying* https://t.co/dNk0wOp5KK'}\n",
            "{'id': 1517275049023135749, 'username': 'StevenGreek1', 'created_at': 'Thu Apr 21 22:52:15 +0000 2022', 'lng': -96.665325, 'lat': 32.536936, 'text': 'So happy for our student athletes competing today!  Very thankful for our coaches - pouring their knowledge into th… https://t.co/yGQPs0WKHq'}\n",
            "{'id': 1517275080044253184, 'username': 'arvmv_', 'created_at': 'Thu Apr 21 22:52:23 +0000 2022', 'lng': 49.575753, 'lat': 25.39898, 'text': 'I’m feel happy today'}\n",
            "{'id': 1517275095152140288, 'username': 'FreddieMHungary', 'created_at': 'Thu Apr 21 22:52:26 +0000 2022', 'lng': 19.129828, 'lat': 47.4812305, 'text': '😍Ahh my SEXY❤️❤️\\u200d🔥❤️🥰 Thank you so much dear♥️😘♥️😘🤗'}\n",
            "{'id': 1517275094577524742, 'username': 'misao555', 'created_at': 'Thu Apr 21 22:52:26 +0000 2022', 'lng': 139.6060465, 'lat': 35.423801, 'text': 'おはようございます🌞\\u2061\\u2061睡眠不足解消しましたが、二日酔いで頭が回らない朝ですwww昨日久々に沢山飲みました🍻\\u2061今日終われば明日休みなので頑張ってきます٩(ˊᗜˋ*)و\\u2061\\u2061\\u2061\\u2061今日もみなさんにHappyが届きますように🌈\\u2061… https://t.co/8fqSh7Dxaa'}\n",
            "{'id': 1517275103289040896, 'username': '_Stiink', 'created_at': 'Thu Apr 21 22:52:28 +0000 2022', 'lng': -90.253841, 'lat': 38.7988455, 'text': 'Thank you!! 🖤🖤🥰🥰🥰'}\n",
            "{'id': 1517275128815566849, 'username': 'EEpenesa', 'created_at': 'Thu Apr 21 22:52:34 +0000 2022', 'lng': -89.906309, 'lat': 38.6059635, 'text': 'Super EXCITED for my niece @leisuhh Love you sweetie welcome to the BIG10 Now Let’s go to work💪 Much alofas🙏❤️'}\n",
            "{'id': 1517275134998028291, 'username': 'Write_the_Write', 'created_at': 'Thu Apr 21 22:52:36 +0000 2022', 'lng': -3.927119, 'lat': 50.997507, 'text': '@somethingamyss @sazmoyse @GraveInformer @AthenaNike4 @acasorguk I was thinking it would suit this particular perso… https://t.co/QjrZi4I4Ol'}\n",
            "{'id': 1517275155013144576, 'username': 'NoraGerez8', 'created_at': 'Thu Apr 21 22:52:41 +0000 2022', 'lng': -63.448642500000005, 'lat': -28.065447499999998, 'text': 'Happy Birthday Pearl \\U0001f90d🎉🎂🥳Happy 1st year to you I love you 💞@nickcarter @Lauren_Kitt https://t.co/25sopCLymV'}\n",
            "{'id': 1517275162047041536, 'username': 'nurryy_', 'created_at': 'Thu Apr 21 22:52:42 +0000 2022', 'lng': 32.744717, 'lat': 39.9676005, 'text': '#HAPPYBIRTHDAY #happy #to #me #HappyEaster2022 https://t.co/GPrAsxZpG9'}\n",
            "{'id': 1517275163875753986, 'username': 'DenetricMalope', 'created_at': 'Thu Apr 21 22:52:43 +0000 2022', 'lng': 2.347003, 'lat': 48.8588335, 'text': '❤️ I love you so much .'}\n",
            "{'id': 1517275171664457728, 'username': 'ayumi_kogure', 'created_at': 'Thu Apr 21 22:52:45 +0000 2022', 'lng': 139.5822895, 'lat': 35.389831, 'text': \"@NASCAR @TALLADEGA Can't wait happy race dayFrom Japan ❤️🔥😆\"}\n",
            "{'id': 1517275193634349056, 'username': 'Berenic17888976', 'created_at': 'Thu Apr 21 22:52:50 +0000 2022', 'lng': -99.2115105, 'lat': 19.4299345, 'text': 'Feniou feliz cumpleaños 🎉🎂🎂 hermoso kaiba loves https://t.co/W7UYnVADsM'}\n",
            "{'id': 1517275242259169280, 'username': 'Prokopio', 'created_at': 'Thu Apr 21 22:53:02 +0000 2022', 'lng': 121.03321199999999, 'lat': 14.5464995, 'text': 'Did not get my hands dirty but it still felt like I just “planted” a tree. 😅 To the person who will ‘actually’ plan… https://t.co/ARUo88wzu2'}\n",
            "{'id': 1517275255911305216, 'username': 'mtbngnilalang', 'created_at': 'Thu Apr 21 22:53:05 +0000 2022', 'lng': 121.169273, 'lat': 14.538013, 'text': 'happy friyey morning 😀'}\n",
            "{'id': 1517275269853171713, 'username': 'pradiggitydog', 'created_at': 'Thu Apr 21 22:53:08 +0000 2022', 'lng': -117.0226945, 'lat': 38.502147, 'text': '@sarahkinz_ Happy belated birthday!!! 🥳'}\n"
          ]
        },
        {
          "output_type": "display_data",
          "data": {
            "text/plain": [
              "<IPython.core.display.Javascript object>"
            ],
            "application/javascript": [
              "\n",
              "    async function download(id, filename, size) {\n",
              "      if (!google.colab.kernel.accessAllowed) {\n",
              "        return;\n",
              "      }\n",
              "      const div = document.createElement('div');\n",
              "      const label = document.createElement('label');\n",
              "      label.textContent = `Downloading \"${filename}\": `;\n",
              "      div.appendChild(label);\n",
              "      const progress = document.createElement('progress');\n",
              "      progress.max = size;\n",
              "      div.appendChild(progress);\n",
              "      document.body.appendChild(div);\n",
              "\n",
              "      const buffers = [];\n",
              "      let downloaded = 0;\n",
              "\n",
              "      const channel = await google.colab.kernel.comms.open(id);\n",
              "      // Send a message to notify the kernel that we're ready.\n",
              "      channel.send({})\n",
              "\n",
              "      for await (const message of channel.messages) {\n",
              "        // Send a message to notify the kernel that we're ready.\n",
              "        channel.send({})\n",
              "        if (message.buffers) {\n",
              "          for (const buffer of message.buffers) {\n",
              "            buffers.push(buffer);\n",
              "            downloaded += buffer.byteLength;\n",
              "            progress.value = downloaded;\n",
              "          }\n",
              "        }\n",
              "      }\n",
              "      const blob = new Blob(buffers, {type: 'application/binary'});\n",
              "      const a = document.createElement('a');\n",
              "      a.href = window.URL.createObjectURL(blob);\n",
              "      a.download = filename;\n",
              "      div.appendChild(a);\n",
              "      a.click();\n",
              "      div.remove();\n",
              "    }\n",
              "  "
            ]
          },
          "metadata": {}
        },
        {
          "output_type": "display_data",
          "data": {
            "text/plain": [
              "<IPython.core.display.Javascript object>"
            ],
            "application/javascript": [
              "download(\"download_73abc4c4-1d78-4cca-9f3a-b327ea3c21ba\", \"geogtweet3PM.csv\", 15257)"
            ]
          },
          "metadata": {}
        },
        {
          "output_type": "stream",
          "name": "stdout",
          "text": [
            "the csv has been downloaded to your local computer. The program has been completed successfully.\n"
          ]
        },
        {
          "output_type": "display_data",
          "data": {
            "text/plain": [
              "<IPython.core.display.Javascript object>"
            ],
            "application/javascript": [
              "\n",
              "    async function download(id, filename, size) {\n",
              "      if (!google.colab.kernel.accessAllowed) {\n",
              "        return;\n",
              "      }\n",
              "      const div = document.createElement('div');\n",
              "      const label = document.createElement('label');\n",
              "      label.textContent = `Downloading \"${filename}\": `;\n",
              "      div.appendChild(label);\n",
              "      const progress = document.createElement('progress');\n",
              "      progress.max = size;\n",
              "      div.appendChild(progress);\n",
              "      document.body.appendChild(div);\n",
              "\n",
              "      const buffers = [];\n",
              "      let downloaded = 0;\n",
              "\n",
              "      const channel = await google.colab.kernel.comms.open(id);\n",
              "      // Send a message to notify the kernel that we're ready.\n",
              "      channel.send({})\n",
              "\n",
              "      for await (const message of channel.messages) {\n",
              "        // Send a message to notify the kernel that we're ready.\n",
              "        channel.send({})\n",
              "        if (message.buffers) {\n",
              "          for (const buffer of message.buffers) {\n",
              "            buffers.push(buffer);\n",
              "            downloaded += buffer.byteLength;\n",
              "            progress.value = downloaded;\n",
              "          }\n",
              "        }\n",
              "      }\n",
              "      const blob = new Blob(buffers, {type: 'application/binary'});\n",
              "      const a = document.createElement('a');\n",
              "      a.href = window.URL.createObjectURL(blob);\n",
              "      a.download = filename;\n",
              "      div.appendChild(a);\n",
              "      a.click();\n",
              "      div.remove();\n",
              "    }\n",
              "  "
            ]
          },
          "metadata": {}
        },
        {
          "output_type": "display_data",
          "data": {
            "text/plain": [
              "<IPython.core.display.Javascript object>"
            ],
            "application/javascript": [
              "download(\"download_1bf5f6b9-2bef-457c-83dd-b1763097734f\", \"geogtweet3PM.csv\", 15257)"
            ]
          },
          "metadata": {}
        },
        {
          "output_type": "stream",
          "name": "stdout",
          "text": [
            "the csv has been downloaded to your local computer. The program has been completed successfully.\n"
          ]
        }
      ],
      "source": [
        "if __name__ == \"__main__\":\n",
        "    # These are provided to you through the Twitter API after you create a account\n",
        "    # register a Twitter App to get the keys and access tokens.\n",
        "    output_file = '/gdrive/My Drive/GEOG458/geogtweet3PM.csv'\n",
        "\n",
        "    # Apply for your own Twitter API keys at https://developer.twitter.com/en/apply-for-access\n",
        "    consumer_key = \"\"\n",
        "    consumer_secret = \"\"\n",
        "    access_token = \"\"\n",
        "    access_token_secret = \"\"\n",
        "\n",
        "    myauth = tweepy.OAuthHandler(consumer_key, consumer_secret)\n",
        "    myauth.set_access_token(access_token, access_token_secret)\n",
        "\n",
        "    # LOCATIONS are the longitude, latitude coordinate corners for a box that restricts the\n",
        "    # geographic area from which you will stream tweets. The first two define the southwest\n",
        "    # corner of the box and the second two define the northeast corner of the box.\n",
        "    LOCATIONS = [-124.7771694, 24.520833, -66.947028, 49.384472,  # Contiguous US\n",
        "                 -164.639405, 58.806859, -144.152365, 71.76871,  # Alaska\n",
        "                 -160.161542, 18.776344, -154.641396, 22.878623]  # Hawaii\n",
        "\n",
        "    stream_listener = StreamListener(time_limit=600, file=output_file)\n",
        "    stream = tweepy.Stream(auth=myauth, listener=stream_listener)\n",
        "    stream.filter(track=['happy'])\n",
        "    stream.filter(locations=LOCATIONS, languages=['en'], encoding=\"utf-8\")"
      ]
    }
  ],
  "metadata": {
    "colab": {
      "collapsed_sections": [],
      "name": "Copy of Copy of 02_geosearch.ipynb",
      "provenance": []
    },
    "kernelspec": {
      "display_name": "Python 3",
      "language": "python",
      "name": "python3"
    },
    "language_info": {
      "codemirror_mode": {
        "name": "ipython",
        "version": 3
      },
      "file_extension": ".py",
      "mimetype": "text/x-python",
      "name": "python",
      "nbconvert_exporter": "python",
      "pygments_lexer": "ipython3",
      "version": "3.7.4"
    }
  },
  "nbformat": 4,
  "nbformat_minor": 0
}